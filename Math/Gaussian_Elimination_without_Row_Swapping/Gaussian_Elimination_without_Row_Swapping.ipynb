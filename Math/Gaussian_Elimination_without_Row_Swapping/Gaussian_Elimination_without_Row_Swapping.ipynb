{
  "nbformat": 4,
  "nbformat_minor": 0,
  "metadata": {
    "colab": {
      "provenance": []
    },
    "kernelspec": {
      "name": "python3",
      "display_name": "Python 3"
    },
    "language_info": {
      "name": "python"
    }
  },
  "cells": [
    {
      "cell_type": "markdown",
      "source": [
        "Part 1: Gaussian Elimination without Row Swapping"
      ],
      "metadata": {
        "id": "wtFxemfz94Nt"
      }
    },
    {
      "cell_type": "code",
      "execution_count": 29,
      "metadata": {
        "id": "blCOa3VR9tJU"
      },
      "outputs": [],
      "source": [
        "from numpy import *\n",
        "import numpy as np\n",
        "import time\n",
        "import matplotlib.pyplot as plt\n",
        "%matplotlib inline"
      ]
    },
    {
      "cell_type": "code",
      "source": [],
      "metadata": {
        "id": "i_ghvJLuzmRs"
      },
      "execution_count": null,
      "outputs": []
    },
    {
      "cell_type": "code",
      "source": [
        "# Matrix and Vector from HW2, task 2\n",
        "matr = np.array([[-3., 2., -1.], [6., -6., 7.], [3., -4., 4.]])\n",
        "vect = np.array([-1., -7., -6.])\n",
        "\n",
        "matr_rows = shape(matr)[0]\n",
        "#print(matr_rows)\n",
        "matr_columns = shape(matr)[1]\n",
        "#print(matr_columns) \n",
        "\n",
        "# looping trhough matrix rows \n",
        "for r in range (1, matr_rows):\n",
        "  \n",
        "  # looping through matrix rows\n",
        "  for i in range (r, matr_rows):\n",
        "    ll = matr[i,r-1] / matr[r-1,r-1] \n",
        "        \n",
        "    # looping through columns, x1 .. xn and b\n",
        "    for j in range (r-1, matr_columns):\n",
        "        matr[i,j] = matr[i,j] - matr[r-1, j] * ll\n",
        "\n",
        "    vect[i] = vect[i] - vect[r-1] * ll    \n",
        "    \n",
        "    print(matr)\n",
        "    print(vect)\n",
        "    print('-----')\n",
        "\n",
        "  print('-- -- -- --')"
      ],
      "metadata": {
        "colab": {
          "base_uri": "https://localhost:8080/"
        },
        "id": "iKwYPDtszmnH",
        "outputId": "5ade8f86-7e09-47e5-a06b-c400a5d266bd"
      },
      "execution_count": 30,
      "outputs": [
        {
          "output_type": "stream",
          "name": "stdout",
          "text": [
            "[[-3.  2. -1.]\n",
            " [ 0. -2.  5.]\n",
            " [ 3. -4.  4.]]\n",
            "[-1. -9. -6.]\n",
            "-----\n",
            "[[-3.  2. -1.]\n",
            " [ 0. -2.  5.]\n",
            " [ 0. -2.  3.]]\n",
            "[-1. -9. -7.]\n",
            "-----\n",
            "-- -- -- --\n",
            "[[-3.  2. -1.]\n",
            " [ 0. -2.  5.]\n",
            " [ 0.  0. -2.]]\n",
            "[-1. -9.  2.]\n",
            "-----\n",
            "-- -- -- --\n"
          ]
        }
      ]
    },
    {
      "cell_type": "code",
      "source": [],
      "metadata": {
        "id": "DIiCzJ79RpFw"
      },
      "execution_count": null,
      "outputs": []
    },
    {
      "cell_type": "code",
      "source": [
        "# Backward Substitution\n",
        "print(matr)\n",
        "print(shape(matr))\n",
        "print(vect)\n",
        "print(shape(vect))\n",
        "\n",
        "n = shape(matr)[0]\n",
        "x = np.zeros(n)\n",
        "\n",
        "n = n - 1   # Python starts from 0\n",
        "print('n =', n)\n",
        "print(shape(x))\n",
        "\n",
        "x[n] = vect[n] / matr[n,n]   # last element in the vector x[]\n",
        "print('x[%d] = %d' % (n, x[n]) )\n",
        "print('-----')\n",
        "\n",
        "# first number of the range is included, last number is not\n",
        "for i in reversed(range(0, n) ):\n",
        "    s = vect[i]\n",
        "    #print('vect[%d] = %d' % (i, s) ) \n",
        "\n",
        "    for j in range (i, n+1):\n",
        "        #print('j =', j)\n",
        "        s = s - matr[i, j] * x[j]   \n",
        "    x[i] = s / matr[i, i]\n",
        "    print('x[%d] = %d' % (i, x[i]) )\n",
        "    \n",
        "print('Solution matrix:')\n",
        "print(x)"
      ],
      "metadata": {
        "colab": {
          "base_uri": "https://localhost:8080/"
        },
        "id": "7hkg87cERo5O",
        "outputId": "0c844ada-9b5e-4066-8d87-ceeadd37a771"
      },
      "execution_count": 31,
      "outputs": [
        {
          "output_type": "stream",
          "name": "stdout",
          "text": [
            "[[-3.  2. -1.]\n",
            " [ 0. -2.  5.]\n",
            " [ 0.  0. -2.]]\n",
            "(3, 3)\n",
            "[-1. -9.  2.]\n",
            "(3,)\n",
            "n = 2\n",
            "(3,)\n",
            "x[2] = -1\n",
            "-----\n",
            "x[1] = 2\n",
            "x[0] = 2\n",
            "Solution matrix:\n",
            "[ 2.  2. -1.]\n"
          ]
        }
      ]
    }
  ]
}