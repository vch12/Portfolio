{
  "cells": [
    {
      "cell_type": "code",
      "execution_count": 1,
      "metadata": {
        "id": "l3yEhoNTP7df"
      },
      "outputs": [],
      "source": [
        "from numpy import *\n",
        "import numpy as np\n",
        "import time\n",
        "import matplotlib.pyplot as plt\n",
        "%matplotlib inline"
      ]
    },
    {
      "cell_type": "code",
      "execution_count": null,
      "metadata": {
        "id": "fXq0gRvxP7eD"
      },
      "outputs": [],
      "source": []
    },
    {
      "cell_type": "markdown",
      "source": [
        "Part 1: Matrix - Vector multiplication function"
      ],
      "metadata": {
        "id": "JBWotwYtuTys"
      }
    },
    {
      "cell_type": "code",
      "source": [
        "# we check sizes of the input Matrix and the Vector before the multiplicaiton \n",
        "\n",
        "# Mat-Vec multiplication function\n",
        "# theoretical number of FLOPS is O(n^2)\n",
        "def mat_vec_mult(matr, vect):\n",
        "    matr_rows = shape(matr)[0]\n",
        "    matr_columns = shape(matr)[1]\n",
        "    vect_size = shape(vect)[0]\n",
        "    \n",
        "    # checking if multiplication of the matrix and the vector is possible\n",
        "    if matr_columns == vect_size:\n",
        "        print('YES, multiplication is possible')\n",
        "    else:\n",
        "        print('NO, multiplication is not possible')\n",
        "        return\n",
        "\n",
        "    # creating a vector for saving the multiplication result\n",
        "    result = np.empty([matr_rows])\n",
        "\n",
        "    # 1st loop - through the matrix rows\n",
        "    for i in range (matr_rows):\n",
        "        #print('i = %d' % (i) )\n",
        "        temp = 0\n",
        "\n",
        "        # 2nd loop - through the vector\n",
        "        for j in range (vect_size):\n",
        "            temp = temp + matr[i,j]*vect[j]\n",
        "  \n",
        "        result[i] = temp\n",
        "    \n",
        "    #print('total result = ', result)\n",
        "    #print('toral result shape = ', shape(result))\n",
        "    return result"
      ],
      "metadata": {
        "id": "YW5_a4QMYEUW"
      },
      "execution_count": 2,
      "outputs": []
    },
    {
      "cell_type": "code",
      "source": [
        "# Verification and Time Measurements (in one loop)\n",
        "\n",
        "from traitlets.config.application import T\n",
        "\n",
        "N_arr = np.array([40, 80, 160, 320, 640, 1280, 2560]) # list of sizes for Mat and Vec\n",
        "\n",
        "time_list = [] #empty list for saving times, needed for a multiplication\n",
        "for N in N_arr: \n",
        "    A = np.random.rand(N,N)   # generating random matrix\n",
        "    b = np.random.rand(N)     # generating random vector\n",
        "    t_start = time.time()     # reading system time before the multiplication\n",
        "    x = mat_vec_mult(A,b)     # Mat-Vec multiplication \n",
        "    t_end = time.time()       # reading system time when multiplication is done\n",
        "    #print ('time spent = ', t_end - t_start)   \n",
        "\n",
        "    # Verification part\n",
        "    result_true = A@b    # result with Python @ operator\n",
        "    diff = np.linalg.norm(x - result_true)  # difference betwen Mat-Vec and @ results\n",
        "    print(diff)\n",
        "    assert(diff < 1e-12*N)\n",
        "\n",
        "    time_list.append(t_end - t_start)   # adding a delay for a part. multiplication to list\n",
        "\n",
        "#print(time_list)"
      ],
      "metadata": {
        "colab": {
          "base_uri": "https://localhost:8080/"
        },
        "id": "5-UCHYwKv1gw",
        "outputId": "bac38c6f-c2c8-4be2-a365-9902d081d275"
      },
      "execution_count": 3,
      "outputs": [
        {
          "output_type": "stream",
          "name": "stdout",
          "text": [
            "YES, multiplication is possible\n",
            "1.3053503572900977e-14\n",
            "YES, multiplication is possible\n",
            "5.399657309215891e-14\n",
            "YES, multiplication is possible\n",
            "1.8812616950290428e-13\n",
            "YES, multiplication is possible\n",
            "8.91554187851291e-13\n",
            "YES, multiplication is possible\n",
            "3.173064609871486e-12\n",
            "YES, multiplication is possible\n",
            "1.241817309850042e-11\n",
            "YES, multiplication is possible\n",
            "4.768522548774473e-11\n"
          ]
        }
      ]
    },
    {
      "cell_type": "code",
      "source": [
        "# Time Plot \n",
        "plt.plot(N_arr, time_list, 'k-*', label = 'Observed')\n",
        "plt.title('Matrix - Vector multiplication')\n",
        "plt.xlabel('$N$')\n",
        "plt.ylabel('$Time, sec$')\n",
        "plt.show()"
      ],
      "metadata": {
        "colab": {
          "base_uri": "https://localhost:8080/",
          "height": 297
        },
        "id": "HjCayEWxw8bQ",
        "outputId": "2fa6d0f6-7465-4c49-df05-de7a3dfd8dc5"
      },
      "execution_count": 4,
      "outputs": [
        {
          "output_type": "display_data",
          "data": {
            "text/plain": [
              "<Figure size 432x288 with 1 Axes>"
            ],
            "image/png": "[encoded data removed]"
          },
          "metadata": {
            "needs_background": "light"
          }
        }
      ]
    },
    {
      "cell_type": "code",
      "source": [],
      "metadata": {
        "id": "yQYwAiKtw77v"
      },
      "execution_count": null,
      "outputs": []
    },
    {
      "cell_type": "markdown",
      "source": [
        "Part-2: Matrix - Matrix multiplication function"
      ],
      "metadata": {
        "id": "Z6sIaoWkAEdJ"
      }
    },
    {
      "cell_type": "code",
      "source": [
        "# we check sizes of the two Matrixes before the multiplication \n",
        " \n",
        "# Mat-Mat multiplication function\n",
        "# theoretical number of FLOPS is O(n^3)\n",
        "def mat_mat_mult(matr_1, matr_2):\n",
        "\n",
        "    matr_1_rows = shape(matr_1)[0]\n",
        "    matr_1_columns = shape(matr_1)[1]\n",
        "    #print('matr_1 rows = %d, columns = %d' % (matr_1_rows, matr_1_columns) )\n",
        "\n",
        "    matr_2_rows = shape(matr_2)[0]\n",
        "    matr_2_columns = shape(matr_2)[1]\n",
        "    #print('matr_2 rows = %d, columns = %d' % (matr_2_rows, matr_2_columns) )\n",
        "    \n",
        "    # check if multiplication of two matrixes is possible\n",
        "    if matr_1_columns == matr_2_rows:\n",
        "        print('YES, multiplication of matrices is possible')\n",
        "    else:\n",
        "        print('NO, multiplication of matrices is not possible')\n",
        "        return\n",
        "\n",
        "    # creating a matrix for saving the multiplication result\n",
        "    # result size is determined by the outside dimensions of 2 matrixes\n",
        "    result = np.empty([matr_1_rows, matr_2_columns])\n",
        "    #print('result shape =', shape(result))\n",
        "\n",
        "    # init every element of the result matrix to 0 \n",
        "    #print('init result elements to 0:')\n",
        "    for i in range (matr_1_rows):\n",
        "        for j in range (matr_2_columns):\n",
        "            result[i,j] = 0\n",
        "            #print('result[%d,%d] = %d' % (i, j, result[i,j]) )\n",
        "          \n",
        "    #print('-------')\n",
        "\n",
        "    # 3 nested loops\n",
        "    # 1st - looping through the rows of matrix 1\n",
        "    for i in range (matr_1_rows): \n",
        "        # 2nd - looping through the columns of matrix 2\n",
        "        for j in range (matr_2_columns):\n",
        "            # now we need to sum up all the small products\n",
        "            # we don't know how many products we will have: 2, 3, etc.\n",
        "            # 3rd - looping through the small products\n",
        "            for k in range (matr_1_columns): # or matr_2_rows\n",
        "                result[i,j] = result[i,j] + matr_1[i, k] * matr_2[ k, j]\n",
        "                #print('result[%d,%d]=%d' % ( i, j, result[i,j]) )\n",
        "\n",
        "    #print('result of multiplication:')\n",
        "    #print(result)\n",
        "    return result"
      ],
      "metadata": {
        "id": "ILJsLb-1xy1V"
      },
      "execution_count": 2,
      "outputs": []
    },
    {
      "cell_type": "code",
      "source": [
        "# Verification and Time Measurements (in one loop)\n",
        "\n",
        "from traitlets.config.application import T\n",
        "\n",
        "time_list = [] #empty list for saving times, needed for a multiplication\n",
        "\n",
        "N_arr = np.array([40, 50, 60, 70, 80, 90, 100, 120, 140]) # list of sizes for Mat\n",
        "for N in N_arr:\n",
        "    A = np.random.rand(N,N)\n",
        "    B = np.random.rand(N,N)\n",
        "    t_start = time.time()     # reading system time before the multiplication\n",
        "    x = mat_mat_mult(A,B)     # Mat-Vec multiplication \n",
        "    t_end = time.time()       # readint system time after the multiplication\n",
        "    #print('time spent = ', t_end - t_start)\n",
        "    time_list.append(t_end - t_start)   # adding a delay for a part. multiplication to list\n",
        "    \n",
        "    # Verification part\n",
        "    result_true = A@B    # result with Python @ operator\n",
        "    diff = np.linalg.norm(x - result_true)  # difference betwen Mat-Mat and @ results\n",
        "    print(diff)\n",
        "    assert(diff < 1e-12*N)\n",
        "\n",
        "#print('time spent = ', t_end - t_start)\n",
        "#print(time_list)"
      ],
      "metadata": {
        "colab": {
          "base_uri": "https://localhost:8080/"
        },
        "id": "RP4CuqCI7uRQ",
        "outputId": "c99ee4ab-d4fe-4354-d244-1fa288b895d3"
      },
      "execution_count": 3,
      "outputs": [
        {
          "output_type": "stream",
          "name": "stdout",
          "text": [
            "YES, multiplication of matrices is possible\n",
            "4.112563410810646e-14\n",
            "YES, multiplication of matrices is possible\n",
            "5.81604295168777e-14\n",
            "YES, multiplication of matrices is possible\n",
            "8.678734886520166e-14\n",
            "YES, multiplication of matrices is possible\n",
            "1.304020156015394e-13\n",
            "YES, multiplication of matrices is possible\n",
            "1.6077746776921858e-13\n",
            "YES, multiplication of matrices is possible\n",
            "2.2066899636669083e-13\n",
            "YES, multiplication of matrices is possible\n",
            "2.761535106232142e-13\n",
            "YES, multiplication of matrices is possible\n",
            "3.388886631708057e-13\n",
            "YES, multiplication of matrices is possible\n",
            "5.8139809291361e-13\n"
          ]
        }
      ]
    },
    {
      "cell_type": "markdown",
      "source": [],
      "metadata": {
        "id": "dr0tdyaz7Q7o"
      }
    },
    {
      "cell_type": "code",
      "source": [
        "# Time Plot\n",
        "plt.plot(N_arr, time_list, 'k-*', label = 'Observed')\n",
        "plt.title('Matrix - Matrix multiplication')\n",
        "plt.xlabel('$N$')\n",
        "plt.ylabel('$Time, sec$')\n",
        "plt.show()"
      ],
      "metadata": {
        "colab": {
          "base_uri": "https://localhost:8080/",
          "height": 297
        },
        "id": "89hKKsJz7QgG",
        "outputId": "f9dc7147-8517-4d94-a022-d1b6ef624ced"
      },
      "execution_count": 4,
      "outputs": [
        {
          "output_type": "display_data",
          "data": {
            "text/plain": [
              "<Figure size 432x288 with 1 Axes>"
            ],
            "image/png": "[encoded data removed]"
          },
          "metadata": {
            "needs_background": "light"
          }
        }
      ]
    }
  ],
  "metadata": {
    "kernelspec": {
      "display_name": "Python 3",
      "language": "python",
      "name": "python3"
    },
    "language_info": {
      "codemirror_mode": {
        "name": "ipython",
        "version": 3
      },
      "file_extension": ".py",
      "mimetype": "text/x-python",
      "name": "python",
      "nbconvert_exporter": "python",
      "pygments_lexer": "ipython3",
      "version": "3.7.4"
    },
    "colab": {
      "provenance": []
    }
  },
  "nbformat": 4,
  "nbformat_minor": 0
}